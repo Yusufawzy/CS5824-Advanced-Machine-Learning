{
 "cells": [
  {
   "cell_type": "markdown",
   "metadata": {},
   "source": [
    "## **Name: Yusuf Elnady**"
   ]
  },
  {
   "cell_type": "markdown",
   "metadata": {},
   "source": [
    " # Some Needed Imports "
   ]
  },
  {
   "cell_type": "code",
   "execution_count": 129,
   "metadata": {
    "ExecuteTime": {
     "end_time": "2020-11-06T03:19:26.077004Z",
     "start_time": "2020-11-06T03:19:26.065035Z"
    }
   },
   "outputs": [],
   "source": [
    "import numpy as np\n",
    "import pandas as pd\n",
    "import matplotlib.pyplot as plt\n",
    "import sys\n",
    "import random\n",
    "import math\n",
    "%matplotlib inline\n",
    "from math import sqrt\n",
    "from sklearn.ensemble import AdaBoostClassifier\n",
    "from sklearn.linear_model import LogisticRegression\n",
    "from sklearn import metrics"
   ]
  },
  {
   "cell_type": "markdown",
   "metadata": {},
   "source": [
    "# Q1.b (Logistic Regression with Ada Boosting)"
   ]
  },
  {
   "cell_type": "code",
   "execution_count": 148,
   "metadata": {
    "ExecuteTime": {
     "end_time": "2020-11-06T03:33:44.252081Z",
     "start_time": "2020-11-06T03:33:44.077551Z"
    }
   },
   "outputs": [],
   "source": [
    "X_train = []\n",
    "y_train = []\n",
    "for i in range(10):\n",
    "    x = (pd.read_csv('knn-dataset/trainData'+str(i+1)+'.csv', header=None).to_numpy())\n",
    "    y = (pd.read_csv('knn-dataset/trainLabels'+str(i+1)+'.csv',header=None).to_numpy())\n",
    "    X_train.extend(x)\n",
    "    y_train.extend(y)\n",
    "y_train = np.array(y_train).flatten()    \n",
    "X_test = pd.read_csv('knn-dataset/testData.csv',header=None).to_numpy()\n",
    "y_test=  pd.read_csv('knn-dataset/testLabels.csv',header=None).to_numpy()\n",
    "y_test = np.array(y_test).flatten() "
   ]
  },
  {
   "cell_type": "code",
   "execution_count": 164,
   "metadata": {
    "ExecuteTime": {
     "end_time": "2020-11-06T16:58:48.251779Z",
     "start_time": "2020-11-06T16:56:15.475107Z"
    }
   },
   "outputs": [
    {
     "name": "stdout",
     "output_type": "stream",
     "text": [
      "The accuracy using 10 base learners with learning rate 0.0001 is 89.5 %\n",
      "The accuracy using 10 base learners with learning rate 0.001 is 89.5 %\n",
      "The accuracy using 10 base learners with learning rate 0.01 is 89.5 %\n",
      "The accuracy using 25 base learners with learning rate 0.0001 is 89.5 %\n",
      "The accuracy using 25 base learners with learning rate 0.001 is 89.5 %\n",
      "The accuracy using 25 base learners with learning rate 0.01 is 89.3 %\n",
      "The accuracy using 50 base learners with learning rate 0.0001 is 89.5 %\n",
      "The accuracy using 50 base learners with learning rate 0.001 is 89.5 %\n",
      "The accuracy using 50 base learners with learning rate 0.01 is 88.9 %\n",
      "The accuracy using 1000 base learners with learning rate 0.0001 is 89.5 %\n",
      "The accuracy using 1000 base learners with learning rate 0.001 is 88.7 %\n",
      "The accuracy using 1000 base learners with learning rate 0.01 is 85.0 %\n"
     ]
    }
   ],
   "source": [
    "n_estimators  = [10,25,50,1000]\n",
    "learning_reates= [0.0001, 0.001, 0.01]\n",
    "\n",
    "for n_estimator in n_estimators:\n",
    "    for rate in learning_reates:\n",
    "        abc = AdaBoostClassifier(n_estimators=n_estimator, base_estimator=LogisticRegression(),learning_rate=rate)\n",
    "        model = abc.fit(X_train, y_train)\n",
    "        y_pred = model.predict(X_train)\n",
    "        accuracy = metrics.accuracy_score(y_train, y_pred)\n",
    "        print(\"The accuracy using\",n_estimator,\"base learners with learning rate\",rate,\"is\",accuracy*100,\"%\")"
   ]
  },
  {
   "cell_type": "markdown",
   "metadata": {},
   "source": [
    "# Q2.b (KNN with Bagging)"
   ]
  },
  {
   "cell_type": "code",
   "execution_count": null,
   "metadata": {
    "ExecuteTime": {
     "end_time": "2020-11-06T01:04:23.122738Z",
     "start_time": "2020-11-06T01:04:16.170Z"
    }
   },
   "outputs": [],
   "source": [
    "all_data=[]\n",
    "for i in range(10):\n",
    "    x = (pd.read_csv('knn-dataset/trainData'+str(i+1)+'.csv', header=None).to_numpy())\n",
    "    y = (pd.read_csv('knn-dataset/trainLabels'+str(i+1)+'.csv',header=None).to_numpy())\n",
    "    # I will combine the rows of data and the output (labels) to be in one array (train):\n",
    "    all_data.extend(np.append(x,y,axis=1))\n",
    "    \n",
    "len(all_data)"
   ]
  },
  {
   "cell_type": "code",
   "execution_count": 85,
   "metadata": {
    "ExecuteTime": {
     "end_time": "2020-11-06T01:04:31.026738Z",
     "start_time": "2020-11-06T01:04:31.002771Z"
    }
   },
   "outputs": [],
   "source": [
    "def euclidean_distance(row1, row2):\n",
    "    distance = 0.0\n",
    "    for i in range(len(row1)):\n",
    "        distance += (row1[i] - row2[i])**2\n",
    "    return sqrt(distance)\n",
    "\n",
    "def get_neighbors(train, test_row, k):\n",
    "\tdistances =[]\n",
    "\tfor row in train:\n",
    "\t\tdist = euclidean_distance(test_row[:-1], row[:-1]) \n",
    "\t\tdistances.append((row, dist)) #distances is consisted of each row and the dist\n",
    "\tdistances.sort(key=lambda second: second[1]) #sort by the second element in the list, which is the dist --> we keep the row because this is the one to be returned\n",
    "\tneighbors = []\n",
    "\tfor i in range(k): #now distances is sorted, so we will get the class of the top (K) to be my neighbors\n",
    "\t\tneighbors.append(distances[i][0]) #get the (row) which is distances[i][0] of the k smallest distances\n",
    "\treturn neighbors\n",
    "\n",
    "# Input -> One Test Row, all_other_rows, k (a number of neighbors)\n",
    "# returns a single predicted class learned from my neighbors in all_rows\n",
    "def predict_one_row_knn(all_rows, test_row, k):\n",
    "\tneighbors = get_neighbors(all_rows, test_row, k) #neighbors list contains (k) neighbors of test_row, and we want to know the best one\n",
    "\n",
    "  #Count how many of these class is said to be his neighbor\n",
    "\toutput_values = [row[-1] for row in neighbors] #get the last index, that I excluded before while calculating the euclidean distance\n",
    "\tprediction = max(set(output_values), key=output_values.count ) #convert the set to be unique, get the most frequent item in this set to be my class\n",
    "\treturn prediction\n",
    "\n",
    "# Input -> Trains (all training rows that will be used), test_rows (all rows we want their class), k (a number of neighbors)\n",
    "# Return -> the predictions of this (test)\n",
    "def KNN(trains, test_rows, k):\n",
    "    predictions = [] #the predictions of this test\n",
    "    for row in test_rows:\n",
    "        class_of_one_row = predict_one_row_knn(trains, row, k)\n",
    "        class_of_one_row = -1 if class_of_one_row == 5 else +1\n",
    "        predictions.append(class_of_one_row)\n",
    "    return(predictions) #the list for all predictions/classes for this (test)\n",
    " "
   ]
  },
  {
   "cell_type": "code",
   "execution_count": 166,
   "metadata": {
    "ExecuteTime": {
     "end_time": "2020-11-06T22:29:39.275095Z",
     "start_time": "2020-11-06T17:02:32.964965Z"
    }
   },
   "outputs": [
    {
     "name": "stdout",
     "output_type": "stream",
     "text": [
      "Accuracy using 2  base learners is 77.42857142857143 %\n",
      "Accuracy using 3  base learners is 82.14285714285714 %\n",
      "Accuracy using 4  base learners is 82.71428571428572 %\n",
      "Accuracy using 5  base learners is 80.85714285714286 %\n",
      "Accuracy using 6  base learners is 83.14285714285714 %\n",
      "Accuracy using 7  base learners is 83.71428571428572 %\n",
      "Accuracy using 8  base learners is 81.0 %\n",
      "Accuracy using 9  base learners is 83.85714285714285 %\n",
      "Accuracy using 10  base learners is 83.0 %\n",
      "Accuracy using 11  base learners is 86.0 %\n",
      "Accuracy using 12  base learners is 82.85714285714286 %\n",
      "Accuracy using 13  base learners is 83.42857142857143 %\n",
      "Accuracy using 14  base learners is 83.14285714285714 %\n",
      "Accuracy using 15  base learners is 83.57142857142857 %\n",
      "Accuracy using 16  base learners is 83.71428571428572 %\n",
      "Accuracy using 17  base learners is 83.14285714285714 %\n",
      "Accuracy using 18  base learners is 81.57142857142857 %\n",
      "Accuracy using 19  base learners is 83.14285714285714 %\n",
      "Accuracy using 20  base learners is 84.57142857142857 %\n",
      "Accuracy using 21  base learners is 81.71428571428572 %\n",
      "Accuracy using 22  base learners is 83.85714285714285 %\n",
      "Accuracy using 23  base learners is 85.0 %\n",
      "Accuracy using 24  base learners is 83.28571428571429 %\n",
      "Accuracy using 25  base learners is 85.0 %\n"
     ]
    }
   ],
   "source": [
    "#Bagging Step\n",
    "\n",
    "# For the following code, split once the data rancomly into 700 point and the others into 300 valication points\n",
    "# We have 700 row/datapoint in the training set\n",
    "\n",
    "random.shuffle(all_data)\n",
    "\n",
    "train_data = all_data[:700]\n",
    "validation_data = all_data[700:]\n",
    "actual_y_training = [row[-1] for row in train_data]\n",
    "actual_y_validation = [row[-1] for row in validation_data]\n",
    "\n",
    "# we have an outer loop that is number of current base learners we are training, K = 2 to 25\n",
    "\n",
    "# We have an inner loop to predict the output of each row in the validation set, and keep it in an array\n",
    "# after we finish all the inner loop we will combine the base models and predict the value of each number in the validation\n",
    "def bootstrap(data,size):\n",
    "    rnd_indices = np.random.choice(700, size=700,replace=True) # Get random indices from 0 to 699\n",
    "    return np.array(train_data)[rnd_indices.astype(int)] # Get the elements of those indices\n",
    "\n",
    "n_neighbors = 19\n",
    "base_learners_accuracies=[]\n",
    "for base_learners in range(2,25+1): # Loop from 2 to 25\n",
    "    base_learner_accuracy=0\n",
    "    Cumulative_Predictions = np.zeros(700)\n",
    "    for i in range(base_learners):\n",
    "        # 1- Get the bootstrap sample (700 point) from the training set. \n",
    "        bootstrap_sample = bootstrap(train_data,700)\n",
    "        # 2- We will have a list of 300 spaces, each base learner will do its predictions on those 300 points \n",
    "        #   All predictions will be added to the same array, and lastly we will determine the class using the sign\n",
    "        #   If predicted is -1 then the class is 5, if predicted is +1 then class is 6\n",
    "        \n",
    "        Predection = KNN(bootstrap_sample,train_data,n_neighbors) #Return in one time the predection of all validation\n",
    "        Cumulative_Predictions = np.add(Predection,Cumulative_Predictions) #Add Cumulative Predections for all base learners\n",
    "    accuracy = calc_accuracy(actual_y_training,Cumulative_Predictions) \n",
    "    print(\"Accuracy using\",base_learners, \" base learners is\", accuracy*100,\"%\")\n",
    "    base_learners_accuracies.append(accuracy)\n"
   ]
  },
  {
   "cell_type": "code",
   "execution_count": 79,
   "metadata": {
    "ExecuteTime": {
     "end_time": "2020-11-05T22:33:57.299815Z",
     "start_time": "2020-11-05T22:33:57.281095Z"
    }
   },
   "outputs": [],
   "source": [
    "# Input -> actuals (we got them from last index in validation data), predictions (are cumulative predections/signs)\n",
    "def calc_accuracy(actuals,predections):\n",
    "    accuracy =  0\n",
    "    for actual,predection in zip(actuals,predections):\n",
    "        predicted = 5 if predection<0 else 6\n",
    "        if (actual==predicted) : \n",
    "            accuracy+=1\n",
    "    return accuracy/len(predections)\n"
   ]
  },
  {
   "cell_type": "code",
   "execution_count": 168,
   "metadata": {
    "ExecuteTime": {
     "end_time": "2020-11-06T22:48:35.182850Z",
     "start_time": "2020-11-06T22:48:34.909578Z"
    }
   },
   "outputs": [
    {
     "name": "stdout",
     "output_type": "stream",
     "text": [
      "The best training accuracy I got on the validation dataset is 86.0 % with 11 base learners\n"
     ]
    },
    {
     "data": {
      "image/png": "[encoded data removed]",
      "text/plain": [
       "<Figure size 432x288 with 1 Axes>"
      ]
     },
     "metadata": {
      "needs_background": "light"
     },
     "output_type": "display_data"
    }
   ],
   "source": [
    "max_accuracy = max(base_learners_accuracies) #Get the highest accuracy \n",
    "max_idx = base_learners_accuracies.index(max(base_learners_accuracies)) #Get the index of the highest accuracy\n",
    "best_n_base_learners = range(0,25).index(max_idx+2) #Get the best number of learners\n",
    "plt.xlabel(\"Number of Base Learnres\")\n",
    "plt.ylabel(\"Base Learner Accuracy\")\n",
    "plt.plot(np.arange(2,25+1),base_learners_accuracies)\n",
    "print(\"The best training accuracy I got on the validation dataset is\",max_accuracy*100,\"% with\",\n",
    "      best_n_base_learners,\"base learners\")"
   ]
  },
  {
   "cell_type": "markdown",
   "metadata": {},
   "source": [
    "**The best training accuracy I got on the validation dataset is 86.0 % with 11 base learners**\n"
   ]
  },
  {
   "cell_type": "markdown",
   "metadata": {},
   "source": [
    "Q2.b.iii\n",
    "\n",
    "\n",
    "The highest accuracy I got before in Assignment 1 when I was using KNN without any bagging was 82.5%, but here we were able to increase the accuracy to 86% which is a large increase in the performance. However, bagging is rarely used in conjunction with KNN classifiers, as the decision surfaces are typically too stable and any multiples of datapoints in the bootstrap sample do not shift the 'weight' like in many other models. Moreover, if we just used 1-NN, then it doesn't have any effect and perfectly equivalent to the bagged 1-NN. But ensemble subsets of KNN outperform the KNN based methods. \n",
    "\n",
    "The reason for that is that we are not stuck to using one model and based on the nearest neighbors for it we decide which are the correct class for it. In bagging we do bootstrap sampling with replacement, which means that not all samples will not be existing in each base learner so we are expected to see some points are classified from the previous iteration. But again we use the majority vote to decide on classifying each point, so herein we improve the accuracy of our model. . A test datapoint can change classification only if its nearest neighbors in the learning set is not in at least half of the N bootstrap samples. The probability for this to occur is the same as the probability of flipping a weighted coin with a 0.632 probability for heads N times and getting less than 0.5N heads. As N gets larger this probability gets smaller and smaller. The Similar logic holds for multiclass problems and KNN."
   ]
  }
 ],
 "metadata": {
  "hide_input": false,
  "kernelspec": {
   "display_name": "Python 3",
   "language": "python",
   "name": "python3"
  },
  "language_info": {
   "codemirror_mode": {
    "name": "ipython",
    "version": 3
   },
   "file_extension": ".py",
   "mimetype": "text/x-python",
   "name": "python",
   "nbconvert_exporter": "python",
   "pygments_lexer": "ipython3",
   "version": "3.7.3"
  },
  "toc": {
   "base_numbering": 1,
   "nav_menu": {},
   "number_sections": true,
   "sideBar": true,
   "skip_h1_title": false,
   "title_cell": "Table of Contents",
   "title_sidebar": "Contents",
   "toc_cell": false,
   "toc_position": {},
   "toc_section_display": true,
   "toc_window_display": false
  },
  "varInspector": {
   "cols": {
    "lenName": 16,
    "lenType": 16,
    "lenVar": 40
   },
   "kernels_config": {
    "python": {
     "delete_cmd_postfix": "",
     "delete_cmd_prefix": "del ",
     "library": "var_list.py",
     "varRefreshCmd": "print(var_dic_list())"
    },
    "r": {
     "delete_cmd_postfix": ") ",
     "delete_cmd_prefix": "rm(",
     "library": "var_list.r",
     "varRefreshCmd": "cat(var_dic_list()) "
    }
   },
   "types_to_exclude": [
    "module",
    "function",
    "builtin_function_or_method",
    "instance",
    "_Feature"
   ],
   "window_display": false
  }
 },
 "nbformat": 4,
 "nbformat_minor": 2
}
