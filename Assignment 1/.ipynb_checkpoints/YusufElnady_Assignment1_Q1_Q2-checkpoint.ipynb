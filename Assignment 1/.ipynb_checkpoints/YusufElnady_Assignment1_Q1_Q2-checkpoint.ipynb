{
 "cells": [
  {
   "cell_type": "markdown",
   "metadata": {
    "colab_type": "text",
    "id": "TkEXB6gK6zU2"
   },
   "source": [
    "# **Name: Yusuf Elnady**\n"
   ]
  },
  {
   "cell_type": "markdown",
   "metadata": {
    "colab_type": "text",
    "id": "hJwuUB0h9Gi4"
   },
   "source": [
    " # Some Needed Imports "
   ]
  },
  {
   "cell_type": "code",
   "execution_count": 1,
   "metadata": {
    "colab": {
     "base_uri": "https://localhost:8080/",
     "height": 34
    },
    "colab_type": "code",
    "executionInfo": {
     "elapsed": 19174,
     "status": "ok",
     "timestamp": 1600625138889,
     "user": {
      "displayName": "Yusuf Elnady",
      "photoUrl": "https://lh3.googleusercontent.com/a-/AOh14GhQzSukJe5frd0tCzNYHZW2FqM28NBI4Cn1FsMZnw=s64",
      "userId": "03923671799894247484"
     },
     "user_tz": 240
    },
    "id": "lK8pC7xjpKgd",
    "outputId": "189d3e7f-240d-4127-d303-c45f2454447c"
   },
   "outputs": [
    {
     "name": "stdout",
     "output_type": "stream",
     "text": [
      "Mounted at /content/drive\n"
     ]
    }
   ],
   "source": [
    "import numpy as np\n",
    "import pandas as pd\n",
    "import math\n",
    "import matplotlib.pyplot as plt\n",
    "import sys\n",
    "import csv\n",
    "%matplotlib inline\n",
    "from google.colab import drive\n",
    "from math import sqrt\n",
    "drive.mount('/content/drive')"
   ]
  },
  {
   "cell_type": "markdown",
   "metadata": {
    "colab_type": "text",
    "id": "VooWoHD69AcR"
   },
   "source": [
    "# Q1: Implementing KNN Algorithm from Scratch\n"
   ]
  },
  {
   "cell_type": "code",
   "execution_count": 4,
   "metadata": {
    "colab": {
     "base_uri": "https://localhost:8080/",
     "height": 34
    },
    "colab_type": "code",
    "executionInfo": {
     "elapsed": 373,
     "status": "ok",
     "timestamp": 1600626711071,
     "user": {
      "displayName": "Yusuf Elnady",
      "photoUrl": "https://lh3.googleusercontent.com/a-/AOh14GhQzSukJe5frd0tCzNYHZW2FqM28NBI4Cn1FsMZnw=s64",
      "userId": "03923671799894247484"
     },
     "user_tz": 240
    },
    "id": "nmGlpFoe9E4b",
    "outputId": "e30b581e-3c99-4f8c-dc2e-9fe9c0819487"
   },
   "outputs": [
    {
     "data": {
      "text/plain": [
       "(110, 65)"
      ]
     },
     "execution_count": 4,
     "metadata": {
      "tags": []
     },
     "output_type": "execute_result"
    }
   ],
   "source": [
    "sys.path.append('/content/drive/data/')\n",
    "trains_KNN=[]  #it contains all the files, each element is a file, each row in the file is the attributes + output label \n",
    "for i in range(10):\n",
    "    x = (pd.read_csv('/content/drive/My Drive/data/knn-dataset/trainData'+str(i+1)+'.csv', header=None).to_numpy())\n",
    "    y = ( pd.read_csv('/content/drive/My Drive/data/knn-dataset/trainLabels'+str(i+1)+'.csv',header=None).to_numpy())\n",
    "    # I will combine the rows of data and the output (labels) to be in one array (train):\n",
    "    trains_KNN.append(np.append(x,y,axis=1))\n",
    "\n",
    "    \n",
    "#Reading the Linear Regression test data    \n",
    "test_input = pd.read_csv('/content/drive/My Drive/data/knn-dataset/testData.csv',header=None).to_numpy()\n",
    "test_target=  pd.read_csv('/content/drive/My Drive/data/knn-dataset/testLabels.csv',header=None).to_numpy()\n",
    "final_test = np.append(test_input,test_target,axis=1)\n",
    "\n",
    "final_test.shape"
   ]
  },
  {
   "cell_type": "code",
   "execution_count": 5,
   "metadata": {
    "colab": {},
    "colab_type": "code",
    "executionInfo": {
     "elapsed": 357,
     "status": "ok",
     "timestamp": 1600626714729,
     "user": {
      "displayName": "Yusuf Elnady",
      "photoUrl": "https://lh3.googleusercontent.com/a-/AOh14GhQzSukJe5frd0tCzNYHZW2FqM28NBI4Cn1FsMZnw=s64",
      "userId": "03923671799894247484"
     },
     "user_tz": 240
    },
    "id": "n1Y9InGl6NTJ"
   },
   "outputs": [],
   "source": [
    "def euclidean_distance(row1, row2):\n",
    "\tdistance = 0.0\n",
    "\tfor i in range(len(row1)):\n",
    "\t\tdistance += (row1[i] - row2[i])**2\n",
    "\treturn sqrt(distance)"
   ]
  },
  {
   "cell_type": "code",
   "execution_count": 74,
   "metadata": {
    "colab": {},
    "colab_type": "code",
    "executionInfo": {
     "elapsed": 445,
     "status": "ok",
     "timestamp": 1600639894710,
     "user": {
      "displayName": "Yusuf Elnady",
      "photoUrl": "https://lh3.googleusercontent.com/a-/AOh14GhQzSukJe5frd0tCzNYHZW2FqM28NBI4Cn1FsMZnw=s64",
      "userId": "03923671799894247484"
     },
     "user_tz": 240
    },
    "id": "wfmSjLPV6P8J"
   },
   "outputs": [],
   "source": [
    "#To locate the neighbors for a new piece of data within a dataset we must first calculate the distance between each record in the dataset \n",
    "#to the new piece of data. We can do this using our distance function prepared above.\n",
    "\n",
    "\n",
    "# Returns the nearest \"K\" neighbors given one test_row and train_set\n",
    "def get_neighbors(train, test_row, k):\n",
    "\tdistances =[]\n",
    "\tfor row in train:\n",
    "\t\tdist = euclidean_distance(test_row[:-1], row[:-1]) \n",
    "\t\tdistances.append((row, dist)) #distances is consisted of each row and the dist\n",
    "\tdistances.sort(key=lambda second: second[1]) #sort by the second element in the list, which is the dist --> we keep the row because this is the one to be returned\n",
    "\tneighbors = []\n",
    "\tfor i in range(k): #now distances is sorted, so we will get the class of the top (K) to be my neighbors\n",
    "\t\tneighbors.append(distances[i][0]) #get the (row) which is distances[i][0] of the k smallest distances\n",
    "\treturn neighbors\n",
    "\n",
    "#So, How to get the class after getting all of the neighbors of this \"test_row\": Return the most shown class in those \"k\" neighbors\n",
    "\n",
    "# Input -> One Test Row, all_other_rows, k (a number of neighbors)\n",
    "# returns a single predicted class learned from my neighbors in all_rows\n",
    "def predict_one_row_knn(all_rows, test_row, k):\n",
    "\tneighbors = get_neighbors(all_rows, test_row, k) #neighbors list contains (k) neighbors of test_row, and we want to know the best one\n",
    "\n",
    "  #Count how many of these class is said to be his neighbor\n",
    "\toutput_values = [row[-1] for row in neighbors] #get the last index, that I excluded before while calculating the euclidean distance\n",
    "\tprediction = max(set(output_values), key=output_values.count ) #convert the set to be unique, get the most frequent item in this set to be my class\n",
    "\treturn prediction\n",
    "\n",
    "\n",
    "# Input -> All Test Row, all_other_rows (to calculate distance from ), k (a number of neighbors)\n",
    "# Return -> the predictions of this (test)\n",
    "def KNN(train, test_rows, k):\n",
    "\tpredictions = [] #the predictions of this test\n",
    "\tfor row in test_rows:\n",
    "\t\tclass_of_one_row = predict_one_row_knn(train, row, k)\n",
    "\t\tpredictions.append(class_of_one_row)\n",
    "\treturn(predictions) #the list for all predictions/classes for this (test)\n",
    " "
   ]
  },
  {
   "cell_type": "code",
   "execution_count": 75,
   "metadata": {
    "colab": {
     "base_uri": "https://localhost:8080/",
     "height": 521
    },
    "colab_type": "code",
    "executionInfo": {
     "elapsed": 1428548,
     "status": "ok",
     "timestamp": 1600641327325,
     "user": {
      "displayName": "Yusuf Elnady",
      "photoUrl": "https://lh3.googleusercontent.com/a-/AOh14GhQzSukJe5frd0tCzNYHZW2FqM28NBI4Cn1FsMZnw=s64",
      "userId": "03923671799894247484"
     },
     "user_tz": 240
    },
    "id": "2BjfXUvN6XDA",
    "outputId": "1a45bd82-1681-4fef-d2d2-333ddeb00190"
   },
   "outputs": [
    {
     "name": "stdout",
     "output_type": "stream",
     "text": [
      "1 0.745\n",
      "2 0.759\n",
      "3 0.7870000000000001\n",
      "4 0.7989999999999999\n",
      "5 0.7859999999999999\n",
      "6 0.788\n",
      "7 0.7929999999999999\n",
      "8 0.8\n",
      "9 0.806\n",
      "10 0.7980000000000002\n",
      "11 0.794\n",
      "12 0.798\n",
      "13 0.795\n",
      "14 0.8019999999999999\n",
      "15 0.795\n",
      "16 0.8139999999999998\n",
      "17 0.808\n",
      "18 0.8099999999999999\n",
      "19 0.8140000000000001\n",
      "20 0.8150000000000001\n",
      "21 0.806\n",
      "22 0.8150000000000001\n",
      "23 0.808\n",
      "24 0.8099999999999999\n",
      "25 0.8019999999999999\n",
      "26 0.8089999999999999\n",
      "27 0.8029999999999999\n",
      "28 0.8029999999999999\n",
      "29 0.8020000000000002\n",
      "30 0.8019999999999999\n"
     ]
    }
   ],
   "source": [
    "\n",
    "\n",
    "#I will have a test data which is the (kth fold - holdout), from this holdout I will loop over each row, each row will be compared to aall rows in the test to find its neighbors\n",
    "\n",
    "\n",
    "def combine_fold_KNN(k): #combine all the folds/trains together in a new array, except for the (kth fold)\n",
    "  trains_all_9 = None\n",
    "  for i in range(10): \n",
    "    if (i!=k): #skip the (kth fold)\n",
    "      if trains_all_9 is None :\n",
    "        trains_all_9 = trains_KNN[i]\n",
    "      else:\n",
    "        trains_all_9 = np.concatenate((trains_all_9,trains_KNN[i])) #Here I am adding the folds to be in one final array \n",
    "  \n",
    "  return trains_all_9\n",
    "\n",
    "#Accuracy is how many elements I got right divided by the whole number of elements\n",
    "def calculate_accuracy(Y1,Y2):\n",
    "  cnt = 0\n",
    "  for  y1,y2 in zip(Y1,Y2):\n",
    "    if y1==y2:\n",
    "      cnt+=1\n",
    "  return cnt/len(Y1)\n",
    "\n",
    "#For each item in this list --> I will have the k and its corresponding average accuracy from all the 10-fold cross validation\n",
    "n_neighbors_accuracy=[]\n",
    "for n_neighbors in range(1,30+1):\n",
    "  accuracy = []\n",
    "  for k in range(10): #this (kth fold) will be the one I will test on.\n",
    "    #Get all the remaining 9 trains and targets combines\n",
    "    trains = combine_fold_KNN(k) #Combine all folds except the (k)\n",
    "    holdout =  trains_KNN[k]\n",
    "    predictions = KNN(trains,holdout,n_neighbors)\n",
    "    actual_y = [row[-1] for row in holdout]\n",
    "\n",
    "    accuracy.append(calculate_accuracy( actual_y,predictions)) #calculate the accuracy for all the rows one time (given my current holdout)\n",
    "  print(n_neighbors,np.mean(accuracy))\n",
    "  n_neighbors_accuracy.append([n_neighbors,np.mean(accuracy)])\n",
    "\n",
    "#Here we will get the maximum accuracy and see its #of neighbors\n",
    "#After it we will train on the all data and get the accuracy from the final_test_set"
   ]
  },
  {
   "cell_type": "code",
   "execution_count": 87,
   "metadata": {
    "colab": {
     "base_uri": "https://localhost:8080/",
     "height": 296
    },
    "colab_type": "code",
    "executionInfo": {
     "elapsed": 510,
     "status": "ok",
     "timestamp": 1600641595590,
     "user": {
      "displayName": "Yusuf Elnady",
      "photoUrl": "https://lh3.googleusercontent.com/a-/AOh14GhQzSukJe5frd0tCzNYHZW2FqM28NBI4Cn1FsMZnw=s64",
      "userId": "03923671799894247484"
     },
     "user_tz": 240
    },
    "id": "07QWPKGZ6ZgP",
    "outputId": "bd271f8b-d797-47fc-ccb7-b0bc1c67750b"
   },
   "outputs": [
    {
     "data": {
      "text/plain": [
       "22"
      ]
     },
     "execution_count": 87,
     "metadata": {
      "tags": []
     },
     "output_type": "execute_result"
    },
    {
     "data": {
      "image/png": "[encoded data removed]",
      "text/plain": [
       "<Figure size 432x288 with 1 Axes>"
      ]
     },
     "metadata": {
      "needs_background": "light",
      "tags": []
     },
     "output_type": "display_data"
    }
   ],
   "source": [
    "Ks , accuracies = np.atleast_2d(n_neighbors_accuracy).T\n",
    "max_accuracy =accuracies[accuracies[1:].argmax()+1]\n",
    "best_n_neightbors = np.where(accuracies == accuracies.max())[0][1]+1\n",
    "plt.xlabel(\"Number of Neighbors\")\n",
    "plt.ylabel(\"Cross Validation Accuracy\")\n",
    "plt.plot(np.arange(1,30+1),accuracies)\n",
    "best_n_neightbors"
   ]
  },
  {
   "cell_type": "markdown",
   "metadata": {
    "colab_type": "text",
    "id": "k8R09--Y6dqv"
   },
   "source": [
    "**The highest accuracy I got  is 81.5% which corresponds to k = 22**\n",
    "\n",
    "Below is the graph of the cross validation accuracy vs. k (n_neighbors)\n"
   ]
  },
  {
   "cell_type": "code",
   "execution_count": 88,
   "metadata": {
    "colab": {
     "base_uri": "https://localhost:8080/",
     "height": 34
    },
    "colab_type": "code",
    "executionInfo": {
     "elapsed": 6437,
     "status": "ok",
     "timestamp": 1600641622054,
     "user": {
      "displayName": "Yusuf Elnady",
      "photoUrl": "https://lh3.googleusercontent.com/a-/AOh14GhQzSukJe5frd0tCzNYHZW2FqM28NBI4Cn1FsMZnw=s64",
      "userId": "03923671799894247484"
     },
     "user_tz": 240
    },
    "id": "tnL961N66hP2",
    "outputId": "d74bc374-ba3a-4893-edea-025f0b45b652"
   },
   "outputs": [
    {
     "data": {
      "text/plain": [
       "0.8090909090909091"
      ]
     },
     "execution_count": 88,
     "metadata": {
      "tags": []
     },
     "output_type": "execute_result"
    }
   ],
   "source": [
    "#If I want to get the accuracy for the final_test data (find in the files \"testData\" and \"testLabels\" ), then I will call the Knn function\n",
    "\n",
    "#I will combine all the data I have in one set, so I can use them here\n",
    "All_trains =  get_folds_combined_KNN(-1) #I used my previous function, to combine all the training data into one list, so I can learn from them all\n",
    "#The shape of All_trains is (1000, 65), and the last column is the output\n",
    "predictions = KNN(All_trains,final_test,(best_n_neightbors))\n",
    "\n",
    "calculate_accuracy(test_target,predictions)"
   ]
  },
  {
   "cell_type": "markdown",
   "metadata": {
    "colab_type": "text",
    "id": "th4JG-JZ6li6"
   },
   "source": [
    "**Using the best number of neighbors (k) = 22 , I tested the model on the given test set and the accuracy is 80.91%**\n"
   ]
  },
  {
   "cell_type": "markdown",
   "metadata": {
    "colab_type": "text",
    "id": "6aHMHl3W8sRX"
   },
   "source": [
    "# Q2: Implementing Linear Regression from Scratch"
   ]
  },
  {
   "cell_type": "code",
   "execution_count": 20,
   "metadata": {
    "colab": {},
    "colab_type": "code",
    "executionInfo": {
     "elapsed": 408,
     "status": "ok",
     "timestamp": 1600569121060,
     "user": {
      "displayName": "Yusuf Elnady",
      "photoUrl": "https://lh3.googleusercontent.com/a-/AOh14GhQzSukJe5frd0tCzNYHZW2FqM28NBI4Cn1FsMZnw=s64",
      "userId": "03923671799894247484"
     },
     "user_tz": 240
    },
    "id": "5dINEFpwQHX0"
   },
   "outputs": [],
   "source": [
    "Data ={};Label ={}\n",
    "for i in range (10) :\n",
    "  with open ('/content/drive/My Drive/data/regression-dataset/trainInput{0}.csv'.format(i+1) ,'r') as f:\n",
    "      one_set_features = np.loadtxt(f, delimiter=\",\").tolist()\n",
    "      Data [i +1]= one_set_features\n",
    "  with open ('/content/drive/My Drive/data/regression-dataset/trainTarget{0}.csv'.format(i+1), 'r') as f:\n",
    "     one_set_labels = np.loadtxt(f, delimiter=\",\").tolist()\n",
    "     Label [i +1]= [[x] for x in one_set_labels]\n",
    "\n",
    "\n",
    "with open ('/content/drive/My Drive/data/regression-dataset/testInput.csv','r') as f:\n",
    "  one_set_features = np.loadtxt(f, delimiter=\",\").tolist()\n",
    "  Final_Test_Data = one_set_features\n",
    "with open ('/content/drive/My Drive/data/regression-dataset/testTarget.csv','r') as f:\n",
    "  one_set_labels = np.loadtxt(f, delimiter=\",\").tolist()\n",
    "  Final_Test_Y_actual =  [[x] for x in one_set_labels]\n",
    "\n",
    "\n",
    "n_features = 3"
   ]
  },
  {
   "cell_type": "code",
   "execution_count": 27,
   "metadata": {
    "colab": {},
    "colab_type": "code",
    "executionInfo": {
     "elapsed": 318,
     "status": "ok",
     "timestamp": 1600569325558,
     "user": {
      "displayName": "Yusuf Elnady",
      "photoUrl": "https://lh3.googleusercontent.com/a-/AOh14GhQzSukJe5frd0tCzNYHZW2FqM28NBI4Cn1FsMZnw=s64",
      "userId": "03923671799894247484"
     },
     "user_tz": 240
    },
    "id": "IN437Nl0QKC8"
   },
   "outputs": [],
   "source": [
    "def get_ones_column(n_rows):\n",
    "  return  np.ones ([ n_rows , 1] )\n",
    "def combine_folds(fold=-1):\n",
    "  X = np.empty ([0 ,n_features] ) #we need to make matrix X that is initially with no rows, but have 3 columns -- New Column for theta0\n",
    "  Y = np.empty ([0 ,1] ) #we need to make matrix/Vector Y that is initially with no rows, and will have one column (output)\n",
    "  for i in range (10) : #Concatenate all the 9 sets together\n",
    "    if i != fold : #the (ith fold) will be my holdout\n",
    "          data = np.concatenate (( Data [i+1] ,get_ones_column(len(Data[i+1]))), axis =1)\n",
    "          X = np.concatenate ((X, data )) \n",
    "          Y = np.concatenate ((Y, Label [i +1]) ) \n",
    "  return X,Y"
   ]
  },
  {
   "cell_type": "code",
   "execution_count": 49,
   "metadata": {
    "colab": {
     "base_uri": "https://localhost:8080/",
     "height": 313
    },
    "colab_type": "code",
    "executionInfo": {
     "elapsed": 778,
     "status": "ok",
     "timestamp": 1600570294755,
     "user": {
      "displayName": "Yusuf Elnady",
      "photoUrl": "https://lh3.googleusercontent.com/a-/AOh14GhQzSukJe5frd0tCzNYHZW2FqM28NBI4Cn1FsMZnw=s64",
      "userId": "03923671799894247484"
     },
     "user_tz": 240
    },
    "id": "WbUqth5VQLbH",
    "outputId": "8565cba4-1578-4014-f82e-0f50fdf0e8cb"
   },
   "outputs": [
    {
     "name": "stdout",
     "output_type": "stream",
     "text": [
      "The best lambda is 1.3 with an error of 1.3460667080501714\n"
     ]
    },
    {
     "data": {
      "text/plain": [
       "Text(0, 0.5, 'Mean Squared Error')"
      ]
     },
     "execution_count": 49,
     "metadata": {
      "tags": []
     },
     "output_type": "execute_result"
    },
    {
     "data": {
      "image/png": "[encoded data removed]",
      "text/plain": [
       "<Figure size 432x288 with 1 Axes>"
      ]
     },
     "metadata": {
      "needs_background": "light",
      "tags": []
     },
     "output_type": "display_data"
    }
   ],
   "source": [
    "\n",
    "err_per_lambda = [] #will contain errors for each lambda in  np.arange (0 ,4.1 ,0.1)\n",
    "for lambdaa in np.arange (0 ,4.1 ,0.1) :\n",
    "    errors = []\n",
    "    for fold in range(10) : #10-fold cross Validation\n",
    "        #We here in a new fold, so we need to combine 9 folds together\n",
    "        X,Y=combine_folds(fold)\n",
    "        #The Technique I used is quite different, because I don't calculate the gradient descent (iterative approach)\n",
    "        #My technique is grabbed from the course of \"Introduction to Machine Learning\" from \"University of Waterloo\" \n",
    "        regularization_part = lambdaa*np.eye(n_features) \n",
    "        #We have A(thetas) = b, and we want to solve for thetas, either using least squares, guassian elimnation, or find thetas = A^(-1)b\n",
    "        A = np.matmul (X.T, X) + regularization_part\n",
    "        b = np.sum (np.multiply (Y, X),axis=0) \n",
    "        thetas = np.matmul(np.linalg.inv(A),b) #thetas = A^(-1)b\n",
    "\n",
    "        test_X = np.concatenate (( Data [ fold +1] ,get_ones_column(len(Data[fold+1]))), axis=1)  #Get the holdout X values\n",
    "        test_Y_actual = Label[fold+1] #Get the holdout actual Y values \n",
    "        thetas = [[theta] for theta in thetas] #convert a list into list of lists\n",
    "        test_Y_predicted = np.matmul( test_X , thetas) #predict the test (holdout) Y values\n",
    "        #calculate_error\n",
    "        errors.append(np.mean (np.square (test_Y_actual-test_Y_predicted)))\n",
    "    err_per_lambda.append(np.mean(errors))\n",
    "\n",
    "min_error_index = np.argmin(err_per_lambda)\n",
    "print (\"The best lambda is {0} with an error of {1}\".format(np.arange (0 ,4.1 ,0.1)[min_error_index] ,err_per_lambda[min_error_index]))\n",
    "plt.plot (np.arange (0 ,4.1 ,0.1) ,err_per_lambda )\n",
    "plt.xlabel('Lambda')\n",
    "plt.ylabel('Mean Squared Error')"
   ]
  },
  {
   "cell_type": "code",
   "execution_count": 45,
   "metadata": {
    "colab": {
     "base_uri": "https://localhost:8080/",
     "height": 34
    },
    "colab_type": "code",
    "executionInfo": {
     "elapsed": 395,
     "status": "ok",
     "timestamp": 1600570135430,
     "user": {
      "displayName": "Yusuf Elnady",
      "photoUrl": "https://lh3.googleusercontent.com/a-/AOh14GhQzSukJe5frd0tCzNYHZW2FqM28NBI4Cn1FsMZnw=s64",
      "userId": "03923671799894247484"
     },
     "user_tz": 240
    },
    "id": "DzPIVMASZ78F",
    "outputId": "84d55902-ef14-46d5-c121-1630390b5be1"
   },
   "outputs": [
    {
     "data": {
      "text/plain": [
       "1.3460667080501714"
      ]
     },
     "execution_count": 45,
     "metadata": {
      "tags": []
     },
     "output_type": "execute_result"
    }
   ],
   "source": [
    "err_per_lambda[]"
   ]
  },
  {
   "cell_type": "markdown",
   "metadata": {
    "colab_type": "text",
    "id": "aikboFbuQqIX"
   },
   "source": [
    "**Using the 10-fold cross validation --> The best λ is 1.3 with MSE of 1.3460667080501714**"
   ]
  },
  {
   "cell_type": "code",
   "execution_count": 39,
   "metadata": {
    "colab": {
     "base_uri": "https://localhost:8080/",
     "height": 34
    },
    "colab_type": "code",
    "executionInfo": {
     "elapsed": 349,
     "status": "ok",
     "timestamp": 1600569465831,
     "user": {
      "displayName": "Yusuf Elnady",
      "photoUrl": "https://lh3.googleusercontent.com/a-/AOh14GhQzSukJe5frd0tCzNYHZW2FqM28NBI4Cn1FsMZnw=s64",
      "userId": "03923671799894247484"
     },
     "user_tz": 240
    },
    "id": "gIRIaI_lRx_b",
    "outputId": "d6bad0ae-f92b-46a3-e9b1-4f294b38b270"
   },
   "outputs": [
    {
     "data": {
      "text/plain": [
       "1.4361103474411632"
      ]
     },
     "execution_count": 39,
     "metadata": {
      "tags": []
     },
     "output_type": "execute_result"
    }
   ],
   "source": [
    "\n",
    "#Getting thetas/coefficients using lambda (1.3)\n",
    "lambdaa = 1.3\n",
    "X,Y = combine_folds() #calculate thetas from all the 10 folds together\n",
    "A = np.matmul (X.T, X) + 1.3*np.eye(n_features)\n",
    "b = np.sum (np.multiply (Y, X),axis=0) \n",
    "thetas = np.matmul(np.linalg.inv(A),b) #this is the thetas corresponding the lambda = 1.3\n",
    "thetas = [[theta] for theta in thetas] #convert a list into list of lists\n",
    "\n",
    "#Predict\n",
    "Final_Test_X = np.concatenate (( Final_Test_Data ,get_ones_column(len(Final_Test_Data))), axis=1)  #get the Final_Test_Data and a first column of all ones\n",
    "Final_Test_Y_predicted = np.matmul( Final_Test_X , thetas) #predict the test (holdout) Y values\n",
    "#calculate_error\n",
    "error = np.mean (np.square (Final_Test_Y_actual-Final_Test_Y_predicted))\n",
    "error"
   ]
  },
  {
   "cell_type": "markdown",
   "metadata": {
    "colab_type": "text",
    "id": "FLKR9hUEYItf"
   },
   "source": [
    "**Using the best λ I got from the 10-fold cross validation, I calculated the thetas then used them to predict the output of the test set, and I got MSE of 1.4361103474411632**"
   ]
  }
 ],
 "metadata": {
  "colab": {
   "collapsed_sections": [],
   "name": "YusufElnady_Assignment1.ipynb",
   "provenance": []
  },
  "hide_input": false,
  "kernelspec": {
   "display_name": "Python 3",
   "language": "python",
   "name": "python3"
  },
  "language_info": {
   "codemirror_mode": {
    "name": "ipython",
    "version": 3
   },
   "file_extension": ".py",
   "mimetype": "text/x-python",
   "name": "python",
   "nbconvert_exporter": "python",
   "pygments_lexer": "ipython3",
   "version": "3.7.3"
  },
  "toc": {
   "base_numbering": 1,
   "nav_menu": {},
   "number_sections": true,
   "sideBar": true,
   "skip_h1_title": false,
   "title_cell": "Table of Contents",
   "title_sidebar": "Contents",
   "toc_cell": false,
   "toc_position": {},
   "toc_section_display": true,
   "toc_window_display": false
  },
  "varInspector": {
   "cols": {
    "lenName": 16,
    "lenType": 16,
    "lenVar": 40
   },
   "kernels_config": {
    "python": {
     "delete_cmd_postfix": "",
     "delete_cmd_prefix": "del ",
     "library": "var_list.py",
     "varRefreshCmd": "print(var_dic_list())"
    },
    "r": {
     "delete_cmd_postfix": ") ",
     "delete_cmd_prefix": "rm(",
     "library": "var_list.r",
     "varRefreshCmd": "cat(var_dic_list()) "
    }
   },
   "types_to_exclude": [
    "module",
    "function",
    "builtin_function_or_method",
    "instance",
    "_Feature"
   ],
   "window_display": false
  }
 },
 "nbformat": 4,
 "nbformat_minor": 1
}
