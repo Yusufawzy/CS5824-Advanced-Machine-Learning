{
 "cells": [
  {
   "cell_type": "markdown",
   "metadata": {
    "id": "wrBPEWEeh4zG"
   },
   "source": [
    "## **Name: Yusuf Elnady**"
   ]
  },
  {
   "cell_type": "markdown",
   "metadata": {
    "id": "D5ljUMdHjG7T"
   },
   "source": [
    " # Some Needed Imports "
   ]
  },
  {
   "cell_type": "code",
   "execution_count": null,
   "metadata": {
    "ExecuteTime": {
     "start_time": "2020-10-09T22:50:22.649Z"
    },
    "colab": {
     "base_uri": "https://localhost:8080/",
     "height": 34
    },
    "id": "eCPQTfPMi_bu",
    "outputId": "86eb60b4-92ad-4490-e906-b66a44761e70"
   },
   "outputs": [],
   "source": [
    "import numpy as np\n",
    "import pandas as pd\n",
    "import matplotlib.pyplot as plt\n",
    "import sys\n",
    "%matplotlib inline\n",
    "from google.colab import drive\n",
    "drive.mount('/content/drive')"
   ]
  },
  {
   "cell_type": "markdown",
   "metadata": {
    "id": "noNS2wu1jKcO"
   },
   "source": [
    "# Implementing Logistic Regression from Scratch (Newton's Method)"
   ]
  },
  {
   "cell_type": "code",
   "execution_count": 195,
   "metadata": {
    "id": "QeBVAP7djX4k"
   },
   "outputs": [],
   "source": [
    "sys.path.append('/content/drive/data/')\n",
    "trains_X=[]  \n",
    "trains_Y=[]\n",
    "for i in range(10):\n",
    "    trains_X.append(pd.read_csv('/content/drive/My Drive/data/knn-dataset/trainData'+str(i+1)+'.csv', header=None).values)\n",
    "    trains_Y.append(pd.read_csv('/content/drive/My Drive/data/knn-dataset/trainLabels'+str(i+1)+'.csv',header=None).values)\n",
    "\n",
    "    \n",
    "#Reading the Linear Regression test data    \n",
    "test_input = pd.read_csv('/content/drive/My Drive/data/knn-dataset/testData.csv',header=None).values\n",
    "test_target=  pd.read_csv('/content/drive/My Drive/data/knn-dataset/testLabels.csv',header=None).values"
   ]
  },
  {
   "cell_type": "code",
   "execution_count": 196,
   "metadata": {
    "id": "eLgGzu3AaiiY"
   },
   "outputs": [],
   "source": [
    "def sigmoid(x):\n",
    "  return 1 / (np.exp(-x) + 1)\n",
    "\n",
    "#return will be a squared matrix of all second derivatives of the weights\n",
    "def hessian_inversed(W,X,lambdaa):\n",
    "  sig = sigmoid(np.dot(X,W)) #The same as (X @ W)\n",
    "  H = X.T.dot(np.diag(sig*(1-sig))).dot(X) #XRX^T\n",
    "  H = H + lambdaa * np.identity(len(H)) #The regulatization part\n",
    "  return np.linalg.inv(H) #Inverse of the hessian matrix\n",
    "\n",
    "#Here we calculate the derivative of L(w), we already have a formula for it\n",
    "def gradient(W,X,Y,lambdaa):\n",
    "  y = [0 if i == 5 else 1 for i in Y] #convert the classes to be only (0) if (5), (1) if (6)\n",
    "  g = ( sigmoid(np.dot(X,W.T)) -y ).dot (X)\n",
    "  return (g+lambdaa*W)\n",
    "\n",
    "#newton_method is the fitting step (finding the best weights for this training data and this lambda). \n",
    "def newton_method(trains_9_X,trains_9_y,lambdaa):\n",
    "  W = np.zeros(trains_9_X.shape[1]+1)    #We need empty array for W that has shape of trains_9_X\n",
    "  trains_9_X = np.insert(trains_9_X, len(trains_9_X[0]), 1, axis=1) #Add a column of (1s) for the (w0)\n",
    "  for i in range(10): #10 Newtons iterations\n",
    "    g = gradient(W,trains_9_X,trains_9_y,lambdaa)\n",
    "    H_inverse = hessian_inversed(W,trains_9_X,lambdaa)\n",
    "    W = W - np.dot(H_inverse,g)\n",
    "  return W"
   ]
  },
  {
   "cell_type": "code",
   "execution_count": 197,
   "metadata": {
    "id": "D-qzxt-oFeTl"
   },
   "outputs": [],
   "source": [
    "#calculate the posterior of having class (ck) given this point (x).\n",
    "def predict(X,W):\n",
    "  X = np.insert(X, len(X[0]), 1, axis=1)\n",
    "  posteriors_prob = sigmoid(np.dot(X, W))\n",
    "  return   [6 if i > 0.5 else 5 for i in posteriors_prob] #return the actual class labels (6) or (5)\n",
    "\n",
    "def calculate_accuracy(Y1,Y2):\n",
    "  cnt = 0\n",
    "  for  y1,y2 in zip(Y1,Y2):\n",
    "    if y1[0]==y2:\n",
    "      cnt+=1\n",
    "  return cnt/len(Y1)"
   ]
  },
  {
   "cell_type": "code",
   "execution_count": 198,
   "metadata": {
    "colab": {
     "base_uri": "https://localhost:8080/",
     "height": 706
    },
    "id": "_6pzWpy07OaV",
    "outputId": "a87cfa01-3947-4469-ecf3-58401e0ac7f9"
   },
   "outputs": [
    {
     "name": "stdout",
     "output_type": "stream",
     "text": [
      "0.0 0.852\n",
      "0.1 0.852\n",
      "0.2 0.852\n",
      "0.30000000000000004 0.853\n",
      "0.4 0.853\n",
      "0.5 0.853\n",
      "0.6000000000000001 0.853\n",
      "0.7000000000000001 0.853\n",
      "0.8 0.853\n",
      "0.9 0.853\n",
      "1.0 0.853\n",
      "1.1 0.853\n",
      "1.2000000000000002 0.853\n",
      "1.3 0.853\n",
      "1.4000000000000001 0.853\n",
      "1.5 0.853\n",
      "1.6 0.853\n",
      "1.7000000000000002 0.853\n",
      "1.8 0.853\n",
      "1.9000000000000001 0.853\n",
      "2.0 0.853\n",
      "2.1 0.853\n",
      "2.2 0.853\n",
      "2.3000000000000003 0.853\n",
      "2.4000000000000004 0.853\n",
      "2.5 0.853\n",
      "2.6 0.853\n",
      "2.7 0.853\n",
      "2.8000000000000003 0.853\n",
      "2.9000000000000004 0.853\n",
      "3.0 0.853\n",
      "3.1 0.853\n",
      "3.2 0.853\n",
      "3.3000000000000003 0.853\n",
      "3.4000000000000004 0.853\n",
      "3.5 0.853\n",
      "3.6 0.853\n",
      "3.7 0.853\n",
      "3.8000000000000003 0.853\n",
      "3.9000000000000004 0.853\n",
      "4.0 0.853\n"
     ]
    }
   ],
   "source": [
    "#The MAIN\n",
    "lambdas_accuracies = []\n",
    "\n",
    "for lambdaa in  np.arange(0,4.1,0.1):\n",
    "    accuracy = []\n",
    "    for k in range(10):\n",
    "      validation_X = trains_X [k]\n",
    "      validation_y = trains_Y [k]\n",
    "      trains_9_X = np.concatenate([Xs_one_fold for idx, Xs_one_fold in enumerate(trains_X) if idx != k])\n",
    "      trains_9_y = np.concatenate([Ys_one_fold for idx, Ys_one_fold in enumerate(trains_Y) if idx != k])\n",
    "\n",
    "      #Here we need to calculate the weights using specific (lambda) and specific (trains) including 10 iterations of Newton's Method.\n",
    "      W = newton_method(trains_9_X,trains_9_y,lambdaa)\n",
    "      predicted_classes = predict(validation_X,W)\n",
    "      accuracy.append(calculate_accuracy(validation_y,predicted_classes)) #calculate the accuracy for all the rows one time (given my current holdout)\n",
    "    print(lambdaa,np.mean(accuracy))\n",
    "    lambdas_accuracies.append(np.mean(accuracy))"
   ]
  },
  {
   "cell_type": "code",
   "execution_count": 199,
   "metadata": {
    "colab": {
     "base_uri": "https://localhost:8080/",
     "height": 313
    },
    "id": "r7_w7NBB6MiS",
    "outputId": "cd330ef0-583f-4ed5-9f4d-f549a6ca7b29"
   },
   "outputs": [
    {
     "name": "stdout",
     "output_type": "stream",
     "text": [
      "The best lambda is 0.30000000000000004 with an accuracy of 0.853\n"
     ]
    },
    {
     "data": {
      "text/plain": [
       "Text(0, 0.5, 'Accuracy')"
      ]
     },
     "execution_count": 199,
     "metadata": {
      "tags": []
     },
     "output_type": "execute_result"
    },
    {
     "data": {
      "image/png": "[encoded data removed]",
      "text/plain": [
       "<Figure size 432x288 with 1 Axes>"
      ]
     },
     "metadata": {
      "needs_background": "light",
      "tags": []
     },
     "output_type": "display_data"
    }
   ],
   "source": [
    "#Plotting the cross-validation accuracy of logistic regression as λ varies.\n",
    "lambdaa_range = np.arange (0 ,4.1 ,0.1)\n",
    "max_accuracy_indx = np.argmax(lambdas_accuracies) #Getting the highest index of the highest accuracy\n",
    "BestLambda = lambdaa_range[max_accuracy_indx]\n",
    "print (\"The best lambda is {0} with an accuracy of {1}\".format(BestLambda,lambdas_accuracies[max_accuracy_indx]))\n",
    "plt.plot (lambdaa_range ,lambdas_accuracies )\n",
    "plt.xlabel('Lambda')\n",
    "plt.ylabel('Accuracy')"
   ]
  },
  {
   "cell_type": "markdown",
   "metadata": {
    "id": "Ka0nFXbvF0Ph"
   },
   "source": [
    "**Using the 10-fold cross validation --> The best λ is 0.30000000000000004 with an accuracy of 0.853**"
   ]
  },
  {
   "cell_type": "code",
   "execution_count": 200,
   "metadata": {
    "colab": {
     "base_uri": "https://localhost:8080/",
     "height": 34
    },
    "id": "eI-_aiFb6Qjo",
    "outputId": "dafbc7c6-e46d-4595-aa6e-62e3d362839a"
   },
   "outputs": [
    {
     "data": {
      "text/plain": [
       "0.892"
      ]
     },
     "execution_count": 200,
     "metadata": {
      "tags": []
     },
     "output_type": "execute_result"
    }
   ],
   "source": [
    "W = newton_method(np.concatenate(trains_X),np.concatenate(trains_Y),BestLambda) #getting the weights of our model using the best lambda\n",
    "predicted_classes_test = predict(np.concatenate(trains_X),W) #predicting the classes for the test set\n",
    "calculate_accuracy(np.concatenate(trains_Y),predicted_classes_test) #producing the test set accuracy value."
   ]
  },
  {
   "cell_type": "markdown",
   "metadata": {
    "id": "WCctjYlGPXeM"
   },
   "source": [
    "**Using the best λ I got from the 10-fold cross validation, I calculated the weights then used them to predict the output of the test set, and I got accuracy of 0.892**\n"
   ]
  },
  {
   "cell_type": "code",
   "execution_count": 201,
   "metadata": {
    "colab": {
     "base_uri": "https://localhost:8080/",
     "height": 218
    },
    "id": "FQvpS15lPnOt",
    "outputId": "a66ba220-5f1c-4c06-b9a7-c7a8304a3d60"
   },
   "outputs": [
    {
     "name": "stdout",
     "output_type": "stream",
     "text": [
      "w0 =  -0.08461515417218943\n",
      "W =  [ 0.03107004 -0.02331866 -0.04064158 -0.0057381  -0.05775346 -0.17516564\n",
      " -0.04480631 -0.09057395 -0.09666747 -0.00509246 -0.11354418 -0.00556571\n",
      " -0.03396302 -0.18792416  0.01727909  0.0299705  -0.06676063 -0.04070107\n",
      "  0.00329588  0.02701707 -0.01719199  0.10468823  0.03726759 -0.05068606\n",
      " -0.08584885 -0.02751252  0.01166596 -0.03341059 -0.09434775 -0.00706834\n",
      "  0.12245099 -0.03662209 -0.16067019  0.02511596  0.0701451   0.01684709\n",
      "  0.01094052  0.08189751  0.04287035  0.0518269   0.00917125  0.00703506\n",
      "  0.22517279  0.09128895  0.01813615 -0.00853016 -0.0187615   0.10926063\n",
      " -0.00507564  0.14044241  0.10341677  0.0643681  -0.06083212  0.03959133\n",
      "  0.08251981  0.01418048  0.05290837  0.0697594  -0.11625292 -0.08323347\n",
      "  0.02959175  0.07086683  0.01218097 -0.01204009 -0.08461515]\n"
     ]
    }
   ],
   "source": [
    "#The weights using the best lambda are:\n",
    "print(\"w0 = \",W[-1])\n",
    "print(\"W = \",W)"
   ]
  }
 ],
 "metadata": {
  "colab": {
   "collapsed_sections": [],
   "name": "YusufElnady_Assignment2.ipynb",
   "provenance": []
  },
  "hide_input": false,
  "kernelspec": {
   "display_name": "Python 3",
   "language": "python",
   "name": "python3"
  },
  "language_info": {
   "codemirror_mode": {
    "name": "ipython",
    "version": 3
   },
   "file_extension": ".py",
   "mimetype": "text/x-python",
   "name": "python",
   "nbconvert_exporter": "python",
   "pygments_lexer": "ipython3",
   "version": "3.7.3"
  },
  "toc": {
   "base_numbering": 1,
   "nav_menu": {},
   "number_sections": true,
   "sideBar": true,
   "skip_h1_title": false,
   "title_cell": "Table of Contents",
   "title_sidebar": "Contents",
   "toc_cell": false,
   "toc_position": {},
   "toc_section_display": true,
   "toc_window_display": false
  },
  "varInspector": {
   "cols": {
    "lenName": 16,
    "lenType": 16,
    "lenVar": 40
   },
   "kernels_config": {
    "python": {
     "delete_cmd_postfix": "",
     "delete_cmd_prefix": "del ",
     "library": "var_list.py",
     "varRefreshCmd": "print(var_dic_list())"
    },
    "r": {
     "delete_cmd_postfix": ") ",
     "delete_cmd_prefix": "rm(",
     "library": "var_list.r",
     "varRefreshCmd": "cat(var_dic_list()) "
    }
   },
   "types_to_exclude": [
    "module",
    "function",
    "builtin_function_or_method",
    "instance",
    "_Feature"
   ],
   "window_display": false
  }
 },
 "nbformat": 4,
 "nbformat_minor": 1
}
