{
 "cells": [
  {
   "cell_type": "markdown",
   "metadata": {},
   "source": [
    "## Name: Yusuf Elnady"
   ]
  },
  {
   "cell_type": "markdown",
   "metadata": {},
   "source": [
    "# Some Needed Imports"
   ]
  },
  {
   "cell_type": "code",
   "execution_count": 54,
   "metadata": {
    "ExecuteTime": {
     "end_time": "2020-11-19T16:52:52.011995Z",
     "start_time": "2020-11-19T16:52:51.995994Z"
    }
   },
   "outputs": [],
   "source": [
    "import numpy as np\n",
    "import pandas as pd\n",
    "from scipy.io import loadmat\n",
    "import random\n",
    "from scipy.stats import multivariate_normal\n",
    "import matplotlib.pyplot as plt\n",
    "import math\n",
    "%matplotlib inline"
   ]
  },
  {
   "cell_type": "markdown",
   "metadata": {},
   "source": [
    "# Q2.a K-Means Clustering"
   ]
  },
  {
   "cell_type": "code",
   "execution_count": 55,
   "metadata": {
    "ExecuteTime": {
     "end_time": "2020-11-19T16:52:55.082819Z",
     "start_time": "2020-11-19T16:52:52.015352Z"
    }
   },
   "outputs": [
    {
     "name": "stdout",
     "output_type": "stream",
     "text": [
      "The Centroids after 10 iterations are:\n",
      "( 6.02440316939379 , 2.9726605369458947 )\n",
      "( 3.034582544606674 , 0.9985308034402206 )\n",
      "( 1.983631519927153 , 5.030430038142128 )\n"
     ]
    },
    {
     "data": {
      "image/png": "[encoded data removed]",
      "text/plain": [
       "<Figure size 432x288 with 1 Axes>"
      ]
     },
     "metadata": {
      "needs_background": "light"
     },
     "output_type": "display_data"
    }
   ],
   "source": [
    "data = loadmat('data1.mat')['X']\n",
    "n_points = len(data)\n",
    "random.seed(30)\n",
    "centroids_idx = random.sample(range(0, n_points), 3)\n",
    "centroids = [data[centroid_idx] for centroid_idx in centroids_idx]\n",
    "\n",
    "    \n",
    "    \n",
    "points_clusters = []\n",
    "for i in range(10):\n",
    "    # Cluster every datapoint to one of the 3 clusters\n",
    "    for point in data:\n",
    "        #Calculate distance from the centroid of each cluster\n",
    "        distance=[np.linalg.norm(point-centroid) for centroid in centroids]\n",
    "        points_clusters.append(np.argmin(distance)+1)\n",
    "\n",
    "    # Update the centroids after we have formed the clusters\n",
    "    new_centroids = []\n",
    "    df = pd.concat([pd.DataFrame(data, columns=['X1','X2']),\n",
    "                    pd.DataFrame(points_clusters, columns=['label'])],axis=1)\n",
    "    \n",
    "    #Calculate the mean for each cluster\n",
    "    for cluster in np.unique(points_clusters):\n",
    "        current_cluster = df[df['label'] == cluster][['X1','X2']]\n",
    "        new_centroids.append(current_cluster.mean())\n",
    "    centroids = new_centroids\n",
    "\n",
    "#======================================================================================#\n",
    "\n",
    "print(\"The Centroids after 10 iterations are:\")\n",
    "for centroid in centroids:\n",
    "    print(\"(\",centroid['X1'],\",\",centroid['X2'],\")\")\n",
    "    \n",
    "COLOR_DICT = {1 : 'r', 2 : 'g', 3 : 'y'}\n",
    "\n",
    "fig, ax = plt.subplots()\n",
    "for cluster in np.unique(points_clusters):\n",
    "    current_cluster = df[df['label'] == cluster][['X1','X2']]\n",
    "    ax.scatter(current_cluster['X1'],current_cluster['X2'], c = COLOR_DICT[cluster], label = cluster)\n",
    "    \n",
    "plt.scatter(np.array(centroids)[:, 0], np.array(centroids)[:, 1], color='black')\n",
    "\n",
    "ax.legend()\n",
    "plt.show()\n"
   ]
  },
  {
   "cell_type": "markdown",
   "metadata": {},
   "source": [
    "**The Centroids after 10 iterations are:**\n",
    "\n",
    "**(X1, X2)**\n",
    "\n",
    "**(6.024403169393790, 2.9726605369458947)**\n",
    "\n",
    "**(3.034582544606674,  0.9985308034402206)**\n",
    "\n",
    "**(1.983631519927153, 5.030430038142128)**"
   ]
  },
  {
   "cell_type": "markdown",
   "metadata": {},
   "source": [
    "# Q2.b Anomaly Detection"
   ]
  },
  {
   "cell_type": "code",
   "execution_count": 56,
   "metadata": {
    "ExecuteTime": {
     "end_time": "2020-11-19T16:52:55.114036Z",
     "start_time": "2020-11-19T16:52:55.087986Z"
    }
   },
   "outputs": [],
   "source": [
    "All = loadmat('data2.mat')\n",
    "data = pd.DataFrame(All['X'])\n",
    "Xval = pd.DataFrame(All['Xval'])\n",
    "yval = pd.DataFrame(All['yval']) #If 1 then outlier, if 0 then normal point\n",
    "\n",
    "def get_probs(X):\n",
    "    n_points = len(X)\n",
    "    mu = np.sum(X, axis=0)/n_points\n",
    "    Σ =  np.diag(np.sum((data - mu)**2, axis=0)/n_points)\n",
    "    n_cols = len(mu)\n",
    "    x_m = X-mu\n",
    "    denom = np.sqrt((2*np.pi)**(n_cols)*np.linalg.det(Σ))\n",
    "    nom =  np.exp(-0.5*np.sum(x_m.dot(np.linalg.inv(Σ))*x_m,axis=1))\n",
    "    probs =nom/denom\n",
    "    return probs\n",
    "\n",
    "def get_F1_score(probs,threshold,y):\n",
    "    TP,FP,FN,F1 = 0,0,0,0\n",
    "    for i in range(len(y)):\n",
    "        if probs[i] <= threshold and y[0][i] == 1:\n",
    "            TP += 1\n",
    "        elif probs[i] <= threshold and y[0][i] == 0:\n",
    "            FP += 1\n",
    "        elif probs[i] > threshold and y[0][i] == 1:\n",
    "            FN += 1\n",
    "#     prec = TP/(TP+FP)\n",
    "#     rec = TP/(TP+FN)\n",
    "    F1 = 2*TP/(2*TP+FP+FN)\n",
    "    return F1\n",
    "\n"
   ]
  },
  {
   "cell_type": "code",
   "execution_count": 57,
   "metadata": {
    "ExecuteTime": {
     "end_time": "2020-11-19T16:58:01.150910Z",
     "start_time": "2020-11-19T16:52:55.116970Z"
    },
    "collapsed": true
   },
   "outputs": [
    {
     "name": "stdout",
     "output_type": "stream",
     "text": [
      "1\n"
     ]
    }
   ],
   "source": [
    "max_F1_score = -1\n",
    "best_threshold = -1\n",
    "F1_scores = []\n",
    "thresholds = []\n",
    "begin = 4.5e-36\n",
    "end =  0.09\n",
    "step_size = (end-begin)/(1000-1)\n",
    "\n",
    "probs = get_probs(Xval)\n",
    "for threshold in np.arange(begin,end+1,step_size):\n",
    "    F1_score = get_F1_score(probs,threshold,yval)\n",
    "    F1_scores.append(F1_score)\n",
    "    thresholds.append(threshold)\n",
    "    \n"
   ]
  },
  {
   "cell_type": "code",
   "execution_count": 58,
   "metadata": {
    "ExecuteTime": {
     "end_time": "2020-11-19T16:58:01.166094Z",
     "start_time": "2020-11-19T16:58:01.156473Z"
    }
   },
   "outputs": [
    {
     "name": "stdout",
     "output_type": "stream",
     "text": [
      "The maximum F1-Score is 0.875\n",
      "The best threshold is 9.009009009009009e-05\n"
     ]
    }
   ],
   "source": [
    "idx = np.array(F1_scores).argmax()\n",
    "best_threshold = thresholds[idx]\n",
    "\n",
    "print(\"The maximum F1-Score is\",max(F1_scores))\n",
    "print(\"The best threshold is\",best_threshold)"
   ]
  },
  {
   "cell_type": "code",
   "execution_count": 59,
   "metadata": {
    "ExecuteTime": {
     "end_time": "2020-11-19T16:58:01.756059Z",
     "start_time": "2020-11-19T16:58:01.169891Z"
    }
   },
   "outputs": [
    {
     "name": "stdout",
     "output_type": "stream",
     "text": [
      "The number of outliers is 6\n"
     ]
    },
    {
     "data": {
      "image/png": "[encoded data removed]",
      "text/plain": [
       "<Figure size 432x288 with 1 Axes>"
      ]
     },
     "metadata": {
      "needs_background": "light"
     },
     "output_type": "display_data"
    }
   ],
   "source": [
    "labels = []\n",
    "probs = get_probs(data)\n",
    "for i in range(len(data)):\n",
    "    labels.append(1 if probs[i] <= best_threshold else 0)\n",
    "\n",
    "        \n",
    "df = pd.concat([pd.DataFrame(data),pd.DataFrame(labels, columns=['label'])],axis=1)\n",
    "\n",
    "COLOR_DICT = {0 : 'k', 1 : 'r'}\n",
    "\n",
    "fig, ax = plt.subplots()\n",
    "for cluster in np.unique(labels):\n",
    "    current_cluster = df[df['label'] == cluster] #Cluster here means either normal or outlier datapoints\n",
    "    ax.scatter(current_cluster[0],current_cluster[1], c = COLOR_DICT[cluster], label = cluster)\n",
    "    \n",
    "\n",
    "ax.legend()\n",
    "print(\"The number of outliers is\",len(df[df['label'] == 1]))\n",
    "plt.show()\n"
   ]
  },
  {
   "cell_type": "markdown",
   "metadata": {
    "ExecuteTime": {
     "end_time": "2020-11-19T16:32:22.884502Z",
     "start_time": "2020-11-19T16:32:22.874503Z"
    }
   },
   "source": [
    "**The maximum F1-Score is 0.875**\n",
    "\n",
    "**The best threshold is 9.009009009009009e-05**\n",
    "\n",
    "**The number of outliers is 6**"
   ]
  }
 ],
 "metadata": {
  "hide_input": false,
  "kernelspec": {
   "display_name": "Python 3",
   "language": "python",
   "name": "python3"
  },
  "language_info": {
   "codemirror_mode": {
    "name": "ipython",
    "version": 3
   },
   "file_extension": ".py",
   "mimetype": "text/x-python",
   "name": "python",
   "nbconvert_exporter": "python",
   "pygments_lexer": "ipython3",
   "version": "3.7.3"
  },
  "toc": {
   "base_numbering": 1,
   "nav_menu": {},
   "number_sections": true,
   "sideBar": true,
   "skip_h1_title": false,
   "title_cell": "Table of Contents",
   "title_sidebar": "Contents",
   "toc_cell": false,
   "toc_position": {},
   "toc_section_display": true,
   "toc_window_display": false
  },
  "varInspector": {
   "cols": {
    "lenName": 16,
    "lenType": 16,
    "lenVar": 40
   },
   "kernels_config": {
    "python": {
     "delete_cmd_postfix": "",
     "delete_cmd_prefix": "del ",
     "library": "var_list.py",
     "varRefreshCmd": "print(var_dic_list())"
    },
    "r": {
     "delete_cmd_postfix": ") ",
     "delete_cmd_prefix": "rm(",
     "library": "var_list.r",
     "varRefreshCmd": "cat(var_dic_list()) "
    }
   },
   "types_to_exclude": [
    "module",
    "function",
    "builtin_function_or_method",
    "instance",
    "_Feature"
   ],
   "window_display": false
  }
 },
 "nbformat": 4,
 "nbformat_minor": 2
}
